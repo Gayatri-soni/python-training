{
  "nbformat": 4,
  "nbformat_minor": 0,
  "metadata": {
    "colab": {
      "name": "assignment19.ipynb",
      "version": "0.3.2",
      "views": {},
      "default_view": {},
      "provenance": []
    },
    "kernelspec": {
      "name": "python3",
      "display_name": "Python 3"
    }
  },
  "cells": [
    {
      "metadata": {
        "id": "E3L2a-ksqs_i",
        "colab_type": "code",
        "colab": {
          "autoexec": {
            "startup": false,
            "wait_interval": 0
          }
        }
      },
      "cell_type": "code",
      "source": [
        "#q1 Create a numpy array with 10 elements of the shape(10,1) using np.random and find out the mean of the elements using basic numpy functions."
      ],
      "execution_count": 0,
      "outputs": []
    },
    {
      "metadata": {
        "id": "uJqhbM2CrKoL",
        "colab_type": "code",
        "colab": {
          "autoexec": {
            "startup": false,
            "wait_interval": 0
          },
          "base_uri": "https://localhost:8080/",
          "height": 204
        },
        "outputId": "d4b63170-abc9-40fb-d475-5cf314cc703c",
        "executionInfo": {
          "status": "ok",
          "timestamp": 1530781622137,
          "user_tz": -330,
          "elapsed": 938,
          "user": {
            "displayName": "Gayatri soni",
            "photoUrl": "//lh6.googleusercontent.com/-vhPGfZLMJZg/AAAAAAAAAAI/AAAAAAAAAC0/WhvcPpRSvsM/s50-c-k-no/photo.jpg",
            "userId": "107703691954242392745"
          }
        }
      },
      "cell_type": "code",
      "source": [
        "import numpy as np\n",
        "\n",
        "a=np.random.rand(10,1)\n",
        "print(a)\n",
        "print(\"mean=\",a.mean())\n"
      ],
      "execution_count": 7,
      "outputs": [
        {
          "output_type": "stream",
          "text": [
            "[[0.83712022]\n",
            " [0.75696663]\n",
            " [0.94813904]\n",
            " [0.27502368]\n",
            " [0.84257554]\n",
            " [0.7662286 ]\n",
            " [0.82395394]\n",
            " [0.07263311]\n",
            " [0.74655868]\n",
            " [0.78207359]]\n",
            "mean= 0.6851273034411316\n"
          ],
          "name": "stdout"
        }
      ]
    },
    {
      "metadata": {
        "id": "W3Y702VWq7-4",
        "colab_type": "code",
        "colab": {
          "autoexec": {
            "startup": false,
            "wait_interval": 0
          }
        }
      },
      "cell_type": "code",
      "source": [
        "#q2 Create a numpy array with 20 elements of the shape(20,1) using np.random find the variance and standard deviation of the elements"
      ],
      "execution_count": 0,
      "outputs": []
    },
    {
      "metadata": {
        "id": "edxfu4zFszeA",
        "colab_type": "code",
        "colab": {
          "autoexec": {
            "startup": false,
            "wait_interval": 0
          },
          "base_uri": "https://localhost:8080/",
          "height": 391
        },
        "outputId": "4271be56-5692-4b33-e3c3-2b5a2f78e5be",
        "executionInfo": {
          "status": "ok",
          "timestamp": 1530781914429,
          "user_tz": -330,
          "elapsed": 1803,
          "user": {
            "displayName": "Gayatri soni",
            "photoUrl": "//lh6.googleusercontent.com/-vhPGfZLMJZg/AAAAAAAAAAI/AAAAAAAAAC0/WhvcPpRSvsM/s50-c-k-no/photo.jpg",
            "userId": "107703691954242392745"
          }
        }
      },
      "cell_type": "code",
      "source": [
        "import numpy as np\n",
        "\n",
        "a=np.random.rand(20,1)\n",
        "print(a)\n",
        "print(\"standard deviation=\",a.std())\n",
        "print(\"variance=\",a.var())"
      ],
      "execution_count": 9,
      "outputs": [
        {
          "output_type": "stream",
          "text": [
            "[[0.14901573]\n",
            " [0.91995014]\n",
            " [0.91828714]\n",
            " [0.31372042]\n",
            " [0.7066798 ]\n",
            " [0.36937729]\n",
            " [0.90385655]\n",
            " [0.84883895]\n",
            " [0.50502982]\n",
            " [0.17870274]\n",
            " [0.08503628]\n",
            " [0.6231509 ]\n",
            " [0.86125795]\n",
            " [0.74602616]\n",
            " [0.762936  ]\n",
            " [0.9177169 ]\n",
            " [0.56576636]\n",
            " [0.03131021]\n",
            " [0.26963817]\n",
            " [0.89938517]]\n",
            "standard deviation= 0.30752956466024833\n",
            "variance= 0.09457443314012187\n"
          ],
          "name": "stdout"
        }
      ]
    },
    {
      "metadata": {
        "id": "sLfma70Qq4lp",
        "colab_type": "text"
      },
      "cell_type": "markdown",
      "source": [
        ""
      ]
    },
    {
      "metadata": {
        "id": "7h4jBUTHq2u3",
        "colab_type": "code",
        "colab": {
          "autoexec": {
            "startup": false,
            "wait_interval": 0
          }
        }
      },
      "cell_type": "code",
      "source": [
        "#q3  Create a numpy array A of shape(10,20) and B of shape (20,25) using np.random. Print the matrix which is the matrix multiplication of A and B. The shape of the new matrix should be (10,25). Using basic numpy math functions only find the sum of all the elements of the new matrix."
      ],
      "execution_count": 0,
      "outputs": []
    },
    {
      "metadata": {
        "id": "oR1UrQ2ftqlb",
        "colab_type": "code",
        "colab": {
          "autoexec": {
            "startup": false,
            "wait_interval": 0
          },
          "base_uri": "https://localhost:8080/",
          "height": 935
        },
        "outputId": "6643a885-cb5c-48d6-f714-6ebe125fc288",
        "executionInfo": {
          "status": "ok",
          "timestamp": 1530782953023,
          "user_tz": -330,
          "elapsed": 1785,
          "user": {
            "displayName": "Gayatri soni",
            "photoUrl": "//lh6.googleusercontent.com/-vhPGfZLMJZg/AAAAAAAAAAI/AAAAAAAAAC0/WhvcPpRSvsM/s50-c-k-no/photo.jpg",
            "userId": "107703691954242392745"
          }
        }
      },
      "cell_type": "code",
      "source": [
        "import numpy as np\n",
        "A=np.random.rand(10,20)\n",
        "B=np.random.rand(20,25)\n",
        "C=np.matmul(A,B)\n",
        "print(\"new matrix C=\",C)\n",
        "print(\"\")\n",
        "print(\"\")\n",
        "print(\"shape of C=\",C.shape)\n",
        "print(\"sum of elements=\",C.sum())\n"
      ],
      "execution_count": 15,
      "outputs": [
        {
          "output_type": "stream",
          "text": [
            "new matrix C= [[3.6780056  5.13724517 3.75135315 3.85027436 4.61857576 5.10817912\n",
            "  4.76146884 6.1795312  4.77284715 4.71558146 4.47434215 3.97724556\n",
            "  4.47837398 3.50416798 3.71923433 4.84580223 4.93830393 4.50401255\n",
            "  5.11246505 5.66099689 5.56937814 4.9859321  6.17791471 4.84469424\n",
            "  4.85758755]\n",
            " [3.90100529 5.77260541 4.59093612 3.92487829 5.66564699 6.01510785\n",
            "  6.29869377 6.5582702  6.05036464 5.58082597 5.5614519  4.82352245\n",
            "  5.12995735 4.16017407 4.48629088 5.94949466 4.80705413 5.1732022\n",
            "  6.11312026 5.5798577  6.18234971 6.01973242 6.3994942  5.32151883\n",
            "  5.36984574]\n",
            " [4.18289736 5.31680047 4.17394023 3.67446556 5.3653862  5.31945596\n",
            "  5.550277   5.75276524 4.42738094 4.51282906 3.99542642 3.79841509\n",
            "  4.68754108 4.41083915 4.09423854 5.07768469 4.62274029 3.90980422\n",
            "  5.55771499 5.12571207 5.61139212 4.79888042 5.31757929 4.29680758\n",
            "  4.85223544]\n",
            " [5.35200927 5.99063898 4.94695023 3.89765006 5.62780774 6.64609468\n",
            "  5.67742092 7.32753701 5.6074961  5.96710033 5.77863949 5.50733907\n",
            "  5.94139151 4.14042076 5.16663615 6.19841178 4.52905512 4.81438969\n",
            "  6.67038935 4.9914078  7.1892705  5.76158465 7.38235708 4.49939864\n",
            "  5.13041114]\n",
            " [4.96701251 5.40645746 4.85708882 4.41016254 4.56981723 5.62343497\n",
            "  5.33150555 6.46325195 5.24227856 5.51376222 5.06779448 4.5689617\n",
            "  4.98392043 3.95254628 4.38270412 5.59882009 5.19681898 4.8595408\n",
            "  5.8300036  5.47201135 5.72214863 5.05701635 6.51193163 4.29619264\n",
            "  4.45945485]\n",
            " [3.96774575 4.96404746 4.86366474 3.22926372 4.93914477 4.70826416\n",
            "  4.93068541 6.28553553 5.06756946 4.71123247 4.98278758 4.34242122\n",
            "  3.87358535 3.9391525  3.68436658 4.99055539 4.11003607 3.0855481\n",
            "  4.8717514  4.30814454 5.5509346  5.12081343 5.66168242 3.82416151\n",
            "  4.37475143]\n",
            " [4.75449884 5.86136161 4.6807618  3.60846798 4.73042387 5.43234773\n",
            "  5.75046659 6.04122106 4.88707226 5.54091446 4.68221773 4.67105722\n",
            "  4.96223564 4.19711796 4.43149835 5.15127526 4.68981327 4.61601994\n",
            "  5.61360181 4.88469132 5.27543247 4.73000158 5.82366537 4.10404991\n",
            "  4.71984378]\n",
            " [3.8790552  5.14514875 4.49817772 2.95460587 5.44612905 5.37999802\n",
            "  5.0427176  6.1306524  5.02660411 4.94670187 4.82016211 4.22138361\n",
            "  4.20544658 4.06066872 4.36695877 6.07782324 4.05522694 3.72457734\n",
            "  5.10369958 3.91158385 5.33560669 5.45566591 5.68774982 4.61059811\n",
            "  4.77528722]\n",
            " [3.6200381  3.71549258 4.22519746 3.10770674 4.16993215 4.3451821\n",
            "  4.32148581 4.68919346 3.80384978 3.92784766 3.7513034  3.64261467\n",
            "  3.48728653 3.31155436 3.22792525 4.59195355 3.4742965  2.57144971\n",
            "  4.42422016 3.59212096 4.5499567  4.39941273 4.38671542 2.77543236\n",
            "  3.40718067]\n",
            " [3.52852895 4.81047245 4.45567293 3.00010431 4.57319169 5.39101655\n",
            "  5.07583548 5.63603997 4.23790983 4.70057615 4.52284993 5.05398234\n",
            "  3.69188802 3.9662199  4.14484917 4.8719811  4.15340668 3.54642139\n",
            "  5.29567152 4.12350681 5.13570606 4.92578494 5.38907372 3.37530338\n",
            "  4.38969616]]\n",
            "\n",
            "\n",
            "shape of C= (10, 25)\n",
            "sum of elements= 1205.7837400734727\n"
          ],
          "name": "stdout"
        }
      ]
    },
    {
      "metadata": {
        "id": "MIQDsAMaxqyl",
        "colab_type": "code",
        "colab": {
          "autoexec": {
            "startup": false,
            "wait_interval": 0
          }
        }
      },
      "cell_type": "code",
      "source": [
        "#q4 Create a numpy array A of shape(10,1).Using the basic operations of the numpy array generate an array of shape(10,1) such that each element is the following function applied on each element of A."
      ],
      "execution_count": 0,
      "outputs": []
    },
    {
      "metadata": {
        "id": "yIzSWTzvyAeu",
        "colab_type": "code",
        "colab": {
          "autoexec": {
            "startup": false,
            "wait_interval": 0
          },
          "base_uri": "https://localhost:8080/",
          "height": 54
        },
        "outputId": "ce6dfd3d-40cf-4fa7-e8ec-4da951aa46ad",
        "executionInfo": {
          "status": "ok",
          "timestamp": 1530785361046,
          "user_tz": -330,
          "elapsed": 5203,
          "user": {
            "displayName": "Gayatri soni",
            "photoUrl": "//lh6.googleusercontent.com/-vhPGfZLMJZg/AAAAAAAAAAI/AAAAAAAAAC0/WhvcPpRSvsM/s50-c-k-no/photo.jpg",
            "userId": "107703691954242392745"
          }
        }
      },
      "cell_type": "code",
      "source": [
        "import numpy as np\n",
        "import math\n",
        "\n",
        "A=np.random.rand(10,1)\n",
        "#print(A)\n",
        "l=[]\n",
        "for x in A:\n",
        "  for y in x:\n",
        "    B=1 / (1 + math.exp(-y))\n",
        "    l.append(B)\n",
        "print(l)"
      ],
      "execution_count": 40,
      "outputs": [
        {
          "output_type": "stream",
          "text": [
            "[0.5965050761006977, 0.6331102102630346, 0.7295979089207287, 0.6864168552518893, 0.6960501604276346, 0.5811998421401503, 0.5209895982697327, 0.6049783013973457, 0.6354657505600492, 0.5781232589817084]\n"
          ],
          "name": "stdout"
        }
      ]
    }
  ]
}